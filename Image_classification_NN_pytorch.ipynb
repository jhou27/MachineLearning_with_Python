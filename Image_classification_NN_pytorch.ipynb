{
  "nbformat": 4,
  "nbformat_minor": 0,
  "metadata": {
    "colab": {
      "provenance": [],
      "collapsed_sections": [],
      "mount_file_id": "1vp28GIQD6fgMCaNU0ze5KQcNHbtRhsed",
      "authorship_tag": "ABX9TyPyl4DJYh/WdLZ/EKdXBfLl",
      "include_colab_link": true
    },
    "kernelspec": {
      "name": "python3",
      "display_name": "Python 3"
    },
    "language_info": {
      "name": "python"
    }
  },
  "cells": [
    {
      "cell_type": "markdown",
      "metadata": {
        "id": "view-in-github",
        "colab_type": "text"
      },
      "source": [
        "<a href=\"https://colab.research.google.com/github/jhou27/MachineLearning_with_Python/blob/main/Image_classification_NN_pytorch.ipynb\" target=\"_parent\"><img src=\"https://colab.research.google.com/assets/colab-badge.svg\" alt=\"Open In Colab\"/></a>"
      ]
    },
    {
      "cell_type": "code",
      "source": [
        "import numpy as np # linear algebra\n",
        "import pandas as pd # data processing, CSV file I/O (e.g. pd.read_csv)\n",
        "import matplotlib.pyplot as plt # for plotting beautiful graphs\n",
        "\n",
        "# train test split from sklearn\n",
        "from sklearn.model_selection import train_test_split\n",
        "\n",
        "# Import Torch \n",
        "import torch\n",
        "import torch.nn as nn\n",
        "from torchvision import transforms, models\n",
        "# from torch.utils.data import SubsetRandomSampler\n",
        "from torch.autograd import Variable\n",
        "from torch import nn, optim\n",
        "import torch.nn.functional as F"
      ],
      "metadata": {
        "id": "bDfDi-0iTy3U"
      },
      "execution_count": 2,
      "outputs": []
    },
    {
      "cell_type": "code",
      "execution_count": 25,
      "metadata": {
        "id": "ALbwEAFJSgXb"
      },
      "outputs": [],
      "source": [
        "final_test=pd.read_csv('/content/drive/My Drive/coding/data/test_nn_pytorch.csv', dtype=np.float32)\n",
        "train=pd.read_csv('/content/drive/My Drive/coding/data/train_nn_pytorch.csv',dtype=np.float32)"
      ]
    },
    {
      "cell_type": "code",
      "source": [
        "# Seperate the features and labels\n",
        "targets_np = train.label.values\n",
        "features_np = train.loc[:, train.columns != 'label'].values/255\n",
        "\n",
        "# Split into training and test set\n",
        "features_train, features_test, target_train, target_test = train_test_split(features_np, targets_np, test_size=0.2, random_state=42)"
      ],
      "metadata": {
        "id": "ckWHIgwPUzzf"
      },
      "execution_count": 14,
      "outputs": []
    },
    {
      "cell_type": "code",
      "source": [
        "# create feature and targets tensor for train set. \n",
        "#As you remember we need variable to accumulate gradients. \n",
        "#Therefore first we create tensor, then we will create variable\n",
        "featuresTrain = torch.from_numpy(features_train)\n",
        "targetsTrain = torch.from_numpy(target_train).type(torch.LongTensor) # data type is long\n",
        "\n",
        "# create feature and targets tensor for test set.\n",
        "featuresTest = torch.from_numpy(features_test)\n",
        "targetsTest = torch.from_numpy(target_test).type(torch.LongTensor) # data type is long"
      ],
      "metadata": {
        "id": "s-huFkrvVHYO"
      },
      "execution_count": 15,
      "outputs": []
    },
    {
      "cell_type": "code",
      "source": [
        "# Set batch size\n",
        "batch_size = 256\n",
        "\n",
        "# Pytorch train and test sets\n",
        "train = torch.utils.data.TensorDataset(featuresTrain,targetsTrain)\n",
        "test = torch.utils.data.TensorDataset(featuresTest,targetsTest)\n",
        "\n",
        "# data loader\n",
        "train_loader = torch.utils.data.DataLoader(train, batch_size = batch_size, shuffle = True)\n",
        "test_loader = torch.utils.data.DataLoader(test, batch_size = batch_size, shuffle = True)"
      ],
      "metadata": {
        "id": "ev0aAqtjV534"
      },
      "execution_count": 16,
      "outputs": []
    },
    {
      "cell_type": "code",
      "source": [
        "# visualize one of the images in data set\n",
        "def visualize_image(data, index, pred=False, val=0):\n",
        "    '''This funtion can be used to visualize the images'''\n",
        "    plt.imshow(data[index].reshape(28,28))\n",
        "    plt.axis(\"off\")\n",
        "    plt.title(\"Handwritten Digit Image\")\n",
        "    plt.show()\n",
        "visualize_image(features_np, 12)"
      ],
      "metadata": {
        "colab": {
          "base_uri": "https://localhost:8080/",
          "height": 264
        },
        "id": "dttRcnYqXA1Y",
        "outputId": "eccb0c48-93db-4d59-8c03-32e59bd0f0d7"
      },
      "execution_count": 17,
      "outputs": [
        {
          "output_type": "display_data",
          "data": {
            "text/plain": [
              "<Figure size 432x288 with 1 Axes>"
            ],
            "image/png": "[encoded data removed]"
          },
          "metadata": {
            "needs_background": "light"
          }
        }
      ]
    },
    {
      "cell_type": "code",
      "source": [
        "class Classifier(nn.Module):\n",
        "    def __init__(self):\n",
        "        super().__init__()\n",
        "        # 5 Hidden Layer Network\n",
        "        self.fc1 = nn.Linear(28*28, 512)\n",
        "        self.fc2 = nn.Linear(512, 256)\n",
        "        self.fc3 = nn.Linear(256, 128)\n",
        "        self.fc4 = nn.Linear(128, 64)\n",
        "        self.fc5 = nn.Linear(64, 10)\n",
        "        \n",
        "        # Dropout module with 0.2 probbability\n",
        "        self.dropout = nn.Dropout(p=0.2)\n",
        "        # Add softmax on output layer\n",
        "        self.log_softmax = F.log_softmax\n",
        "        \n",
        "    def forward(self, x):\n",
        "        x = self.dropout(F.relu(self.fc1(x)))\n",
        "        x = self.dropout(F.relu(self.fc2(x)))\n",
        "        x = self.dropout(F.relu(self.fc3(x)))\n",
        "        x = self.dropout(F.relu(self.fc4(x)))\n",
        "        \n",
        "        x = self.log_softmax(self.fc5(x), dim=1)\n",
        "        \n",
        "        return x"
      ],
      "metadata": {
        "id": "2YU4tfGgXShz"
      },
      "execution_count": 18,
      "outputs": []
    },
    {
      "cell_type": "code",
      "source": [
        "# Instantiate our model\n",
        "model = Classifier()\n",
        "# Define our loss function\n",
        "criterion = nn.NLLLoss()\n",
        "# Define the optimier\n",
        "optimizer = optim.Adam(model.parameters(), lr=0.0015)\n",
        "\n",
        "epochs = 25\n",
        "steps = 0\n",
        "print_every = 50\n",
        "train_losses, test_losses = [], []\n",
        "\n",
        "for e in range(epochs):\n",
        "    running_loss = 0\n",
        "    for images, labels in train_loader:\n",
        "        steps += 1\n",
        "        # Prevent accumulation of gradients\n",
        "        optimizer.zero_grad()\n",
        "        # Make predictions\n",
        "        log_ps = model(images)\n",
        "        loss = criterion(log_ps, labels)\n",
        "        #backprop\n",
        "        loss.backward()\n",
        "        optimizer.step()\n",
        "        \n",
        "        running_loss += loss.item()\n",
        "        if steps % print_every == 0:\n",
        "            test_loss = 0\n",
        "            accuracy = 0\n",
        "\n",
        "            # Turn off gradients for validation\n",
        "            with torch.no_grad():\n",
        "                model.eval()\n",
        "                for images, labels in test_loader:\n",
        "                    log_ps = model(images)\n",
        "                    test_loss += criterion(log_ps, labels)\n",
        "\n",
        "                    ps = torch.exp(log_ps)\n",
        "                    # Get our top predictions\n",
        "                    top_p, top_class = ps.topk(1, dim=1)\n",
        "                    equals = top_class == labels.view(*top_class.shape)\n",
        "                    accuracy += torch.mean(equals.type(torch.FloatTensor))\n",
        "\n",
        "            model.train()\n",
        "\n",
        "            train_losses.append(running_loss/len(train_loader))\n",
        "            test_losses.append(test_loss/len(test_loader))\n",
        "\n",
        "            print(\"Epoch: {}/{}.. \".format(e+1, epochs),\n",
        "                  \"Training Loss: {:.3f}.. \".format(train_losses[-1]),\n",
        "                  \"Test Loss: {:.3f}.. \".format(test_losses[-1]),\n",
        "                  \"Test Accuracy: {:.3f}\".format(accuracy/len(test_loader)))"
      ],
      "metadata": {
        "colab": {
          "base_uri": "https://localhost:8080/"
        },
        "id": "BqqkquJkXy-s",
        "outputId": "96f88b2d-04a3-4204-d224-435ce14d15c6"
      },
      "execution_count": 19,
      "outputs": [
        {
          "output_type": "stream",
          "name": "stdout",
          "text": [
            "Epoch: 1/25..  Training Loss: 0.429..  Test Loss: 0.405..  Test Accuracy: 0.877\n",
            "Epoch: 1/25..  Training Loss: 0.573..  Test Loss: 0.283..  Test Accuracy: 0.911\n",
            "Epoch: 2/25..  Training Loss: 0.035..  Test Loss: 0.214..  Test Accuracy: 0.932\n",
            "Epoch: 2/25..  Training Loss: 0.117..  Test Loss: 0.174..  Test Accuracy: 0.948\n",
            "Epoch: 2/25..  Training Loss: 0.193..  Test Loss: 0.163..  Test Accuracy: 0.951\n",
            "Epoch: 3/25..  Training Loss: 0.043..  Test Loss: 0.143..  Test Accuracy: 0.957\n",
            "Epoch: 3/25..  Training Loss: 0.096..  Test Loss: 0.130..  Test Accuracy: 0.962\n",
            "Epoch: 4/25..  Training Loss: 0.003..  Test Loss: 0.131..  Test Accuracy: 0.961\n",
            "Epoch: 4/25..  Training Loss: 0.048..  Test Loss: 0.116..  Test Accuracy: 0.966\n",
            "Epoch: 4/25..  Training Loss: 0.091..  Test Loss: 0.106..  Test Accuracy: 0.968\n",
            "Epoch: 5/25..  Training Loss: 0.015..  Test Loss: 0.111..  Test Accuracy: 0.969\n",
            "Epoch: 5/25..  Training Loss: 0.049..  Test Loss: 0.112..  Test Accuracy: 0.967\n",
            "Epoch: 5/25..  Training Loss: 0.087..  Test Loss: 0.099..  Test Accuracy: 0.970\n",
            "Epoch: 6/25..  Training Loss: 0.023..  Test Loss: 0.099..  Test Accuracy: 0.971\n",
            "Epoch: 6/25..  Training Loss: 0.054..  Test Loss: 0.102..  Test Accuracy: 0.970\n",
            "Epoch: 7/25..  Training Loss: 0.004..  Test Loss: 0.106..  Test Accuracy: 0.971\n",
            "Epoch: 7/25..  Training Loss: 0.029..  Test Loss: 0.103..  Test Accuracy: 0.971\n",
            "Epoch: 7/25..  Training Loss: 0.054..  Test Loss: 0.099..  Test Accuracy: 0.972\n",
            "Epoch: 8/25..  Training Loss: 0.013..  Test Loss: 0.096..  Test Accuracy: 0.972\n",
            "Epoch: 8/25..  Training Loss: 0.033..  Test Loss: 0.107..  Test Accuracy: 0.971\n",
            "Epoch: 8/25..  Training Loss: 0.057..  Test Loss: 0.106..  Test Accuracy: 0.971\n",
            "Epoch: 9/25..  Training Loss: 0.021..  Test Loss: 0.102..  Test Accuracy: 0.972\n",
            "Epoch: 9/25..  Training Loss: 0.040..  Test Loss: 0.107..  Test Accuracy: 0.973\n",
            "Epoch: 10/25..  Training Loss: 0.005..  Test Loss: 0.105..  Test Accuracy: 0.971\n",
            "Epoch: 10/25..  Training Loss: 0.022..  Test Loss: 0.118..  Test Accuracy: 0.971\n",
            "Epoch: 10/25..  Training Loss: 0.037..  Test Loss: 0.108..  Test Accuracy: 0.974\n",
            "Epoch: 11/25..  Training Loss: 0.012..  Test Loss: 0.100..  Test Accuracy: 0.975\n",
            "Epoch: 11/25..  Training Loss: 0.031..  Test Loss: 0.103..  Test Accuracy: 0.972\n",
            "Epoch: 11/25..  Training Loss: 0.047..  Test Loss: 0.098..  Test Accuracy: 0.974\n",
            "Epoch: 12/25..  Training Loss: 0.014..  Test Loss: 0.101..  Test Accuracy: 0.975\n",
            "Epoch: 12/25..  Training Loss: 0.028..  Test Loss: 0.100..  Test Accuracy: 0.974\n",
            "Epoch: 13/25..  Training Loss: 0.004..  Test Loss: 0.098..  Test Accuracy: 0.975\n",
            "Epoch: 13/25..  Training Loss: 0.015..  Test Loss: 0.105..  Test Accuracy: 0.974\n",
            "Epoch: 13/25..  Training Loss: 0.028..  Test Loss: 0.101..  Test Accuracy: 0.977\n",
            "Epoch: 14/25..  Training Loss: 0.008..  Test Loss: 0.104..  Test Accuracy: 0.974\n",
            "Epoch: 14/25..  Training Loss: 0.021..  Test Loss: 0.103..  Test Accuracy: 0.976\n",
            "Epoch: 15/25..  Training Loss: 0.001..  Test Loss: 0.104..  Test Accuracy: 0.976\n",
            "Epoch: 15/25..  Training Loss: 0.013..  Test Loss: 0.112..  Test Accuracy: 0.973\n",
            "Epoch: 15/25..  Training Loss: 0.024..  Test Loss: 0.102..  Test Accuracy: 0.977\n",
            "Epoch: 16/25..  Training Loss: 0.005..  Test Loss: 0.099..  Test Accuracy: 0.976\n",
            "Epoch: 16/25..  Training Loss: 0.016..  Test Loss: 0.111..  Test Accuracy: 0.975\n",
            "Epoch: 16/25..  Training Loss: 0.027..  Test Loss: 0.106..  Test Accuracy: 0.975\n",
            "Epoch: 17/25..  Training Loss: 0.008..  Test Loss: 0.108..  Test Accuracy: 0.976\n",
            "Epoch: 17/25..  Training Loss: 0.016..  Test Loss: 0.124..  Test Accuracy: 0.975\n",
            "Epoch: 18/25..  Training Loss: 0.001..  Test Loss: 0.123..  Test Accuracy: 0.973\n",
            "Epoch: 18/25..  Training Loss: 0.012..  Test Loss: 0.113..  Test Accuracy: 0.975\n",
            "Epoch: 18/25..  Training Loss: 0.024..  Test Loss: 0.105..  Test Accuracy: 0.977\n",
            "Epoch: 19/25..  Training Loss: 0.004..  Test Loss: 0.115..  Test Accuracy: 0.976\n",
            "Epoch: 19/25..  Training Loss: 0.012..  Test Loss: 0.114..  Test Accuracy: 0.976\n",
            "Epoch: 19/25..  Training Loss: 0.023..  Test Loss: 0.101..  Test Accuracy: 0.978\n",
            "Epoch: 20/25..  Training Loss: 0.007..  Test Loss: 0.111..  Test Accuracy: 0.976\n",
            "Epoch: 20/25..  Training Loss: 0.016..  Test Loss: 0.110..  Test Accuracy: 0.977\n",
            "Epoch: 21/25..  Training Loss: 0.001..  Test Loss: 0.111..  Test Accuracy: 0.975\n",
            "Epoch: 21/25..  Training Loss: 0.008..  Test Loss: 0.127..  Test Accuracy: 0.975\n",
            "Epoch: 21/25..  Training Loss: 0.018..  Test Loss: 0.101..  Test Accuracy: 0.979\n",
            "Epoch: 22/25..  Training Loss: 0.005..  Test Loss: 0.106..  Test Accuracy: 0.977\n",
            "Epoch: 22/25..  Training Loss: 0.015..  Test Loss: 0.109..  Test Accuracy: 0.975\n",
            "Epoch: 22/25..  Training Loss: 0.023..  Test Loss: 0.107..  Test Accuracy: 0.977\n",
            "Epoch: 23/25..  Training Loss: 0.008..  Test Loss: 0.117..  Test Accuracy: 0.975\n",
            "Epoch: 23/25..  Training Loss: 0.016..  Test Loss: 0.120..  Test Accuracy: 0.974\n",
            "Epoch: 24/25..  Training Loss: 0.002..  Test Loss: 0.095..  Test Accuracy: 0.979\n",
            "Epoch: 24/25..  Training Loss: 0.010..  Test Loss: 0.099..  Test Accuracy: 0.979\n",
            "Epoch: 24/25..  Training Loss: 0.017..  Test Loss: 0.118..  Test Accuracy: 0.976\n",
            "Epoch: 25/25..  Training Loss: 0.006..  Test Loss: 0.112..  Test Accuracy: 0.977\n",
            "Epoch: 25/25..  Training Loss: 0.015..  Test Loss: 0.098..  Test Accuracy: 0.977\n",
            "Epoch: 25/25..  Training Loss: 0.023..  Test Loss: 0.107..  Test Accuracy: 0.978\n"
          ]
        }
      ]
    },
    {
      "cell_type": "code",
      "source": [
        "%matplotlib inline\n",
        "%config InlineBackend.figure_format = 'retina'\n",
        "\n",
        "plt.plot(train_losses, label='Training loss')\n",
        "plt.plot(test_losses, label='Validation loss')\n",
        "plt.legend(frameon=False)"
      ],
      "metadata": {
        "colab": {
          "base_uri": "https://localhost:8080/",
          "height": 286
        },
        "id": "88khR4MMZVjA",
        "outputId": "29c42c7b-9d63-4dd3-85e3-e74bd91b030f"
      },
      "execution_count": 21,
      "outputs": [
        {
          "output_type": "execute_result",
          "data": {
            "text/plain": [
              "<matplotlib.legend.Legend at 0x7f0684323410>"
            ]
          },
          "metadata": {},
          "execution_count": 21
        },
        {
          "output_type": "display_data",
          "data": {
            "text/plain": [
              "<Figure size 432x288 with 1 Axes>"
            ],
            "image/png": "[encoded data removed]"
          },
          "metadata": {
            "image/png": {
              "width": 372,
              "height": 251
            },
            "needs_background": "light"
          }
        }
      ]
    },
    {
      "cell_type": "code",
      "source": [
        "def view_classify(img, ps):\n",
        "    ''' Function for viewing an image and it's predicted classes.\n",
        "    '''\n",
        "    ps = ps.data.numpy().squeeze()\n",
        "\n",
        "    fig, (ax1, ax2) = plt.subplots(figsize=(6,9), ncols=2)\n",
        "    ax1.imshow(img.resize_(1, 28, 28).numpy().squeeze())\n",
        "    ax1.axis('off')\n",
        "    ax2.barh(np.arange(10), ps)\n",
        "    ax2.set_aspect(0.1)\n",
        "    ax2.set_yticks(np.arange(10))\n",
        "    ax2.set_yticklabels(np.arange(10))\n",
        "    ax2.set_title('Class Probability')\n",
        "    ax2.set_xlim(0, 1.1)\n",
        "\n",
        "    plt.tight_layout()\n"
      ],
      "metadata": {
        "id": "Dt0Qb5lYcQD9"
      },
      "execution_count": 22,
      "outputs": []
    },
    {
      "cell_type": "code",
      "source": [
        "%matplotlib inline\n",
        "def make_prediction(data):\n",
        "    images, labels = next(iter(data))\n",
        "\n",
        "    img = images[42].view(1, 784)\n",
        "    # Turn off gradients to speed up this part\n",
        "    with torch.no_grad():\n",
        "        logps = model(img)\n",
        "\n",
        "    # Output of the network are log-probabilities, need to take exponential for probabilities\n",
        "    ps = torch.exp(logps)\n",
        "    view_classify(img.view(1, 28, 28), ps)\n",
        "make_prediction(test_loader)"
      ],
      "metadata": {
        "colab": {
          "base_uri": "https://localhost:8080/",
          "height": 252
        },
        "id": "jqmBcNw9cTEV",
        "outputId": "603ca2d3-a4a5-4ea6-f7d5-77b027dcf4b9"
      },
      "execution_count": 23,
      "outputs": [
        {
          "output_type": "display_data",
          "data": {
            "text/plain": [
              "<Figure size 432x648 with 2 Axes>"
            ],
            "image/png": "[encoded data removed]"
          },
          "metadata": {
            "image/png": {
              "width": 424,
              "height": 235
            },
            "needs_background": "light"
          }
        }
      ]
    },
    {
      "cell_type": "code",
      "source": [
        "final_test_np = final_test.values/255\n",
        "test_tn = torch.from_numpy(final_test_np)"
      ],
      "metadata": {
        "id": "Gl36M8LBcjrY"
      },
      "execution_count": 26,
      "outputs": []
    },
    {
      "cell_type": "code",
      "source": [
        "# Creating fake labels for convenience of passing into DataLoader\n",
        "## CAUTION: There are other ways of doing this, I just did it this way\n",
        "fake_labels = np.zeros(final_test_np.shape)\n",
        "fake_labels = torch.from_numpy(fake_labels)"
      ],
      "metadata": {
        "id": "L25Y0T_OdD5Z"
      },
      "execution_count": 27,
      "outputs": []
    },
    {
      "cell_type": "code",
      "source": [
        "submission_tn_data = torch.utils.data.TensorDataset(test_tn, fake_labels)\n",
        "\n",
        "submission_loader = torch.utils.data.DataLoader(submission_tn_data, batch_size = batch_size, shuffle = False)"
      ],
      "metadata": {
        "id": "V9hRVCcfdJMM"
      },
      "execution_count": 28,
      "outputs": []
    },
    {
      "cell_type": "code",
      "source": [
        "# Seeing what our model does on test data\n",
        "make_prediction(submission_loader)"
      ],
      "metadata": {
        "colab": {
          "base_uri": "https://localhost:8080/",
          "height": 252
        },
        "id": "anTQqMLudQmH",
        "outputId": "06815843-e2dd-4d9f-e7ef-9167133d5329"
      },
      "execution_count": 29,
      "outputs": [
        {
          "output_type": "display_data",
          "data": {
            "text/plain": [
              "<Figure size 432x648 with 2 Axes>"
            ],
            "image/png": "[encoded data removed]"
          },
          "metadata": {
            "image/png": {
              "width": 424,
              "height": 235
            },
            "needs_background": "light"
          }
        }
      ]
    },
    {
      "cell_type": "code",
      "source": [
        "# Making it submission ready\n",
        "submission = [['ImageId', 'Label']]\n",
        "\n",
        "# Turn off gradients for validation\n",
        "with torch.no_grad():\n",
        "    model.eval()\n",
        "    image_id = 1\n",
        "    for images, _ in submission_loader:\n",
        "        log_ps = model(images)\n",
        "        ps = torch.exp(log_ps)\n",
        "        top_p, top_class = ps.topk(1, dim=1)\n",
        "        \n",
        "        for prediction in top_class:\n",
        "            submission.append([image_id, prediction.item()])\n",
        "            image_id += 1"
      ],
      "metadata": {
        "id": "T0fUFzCJdXci"
      },
      "execution_count": 30,
      "outputs": []
    },
    {
      "cell_type": "code",
      "source": [
        "submission_df = pd.DataFrame(submission)\n",
        "submission_df.columns = submission_df.iloc[0]\n",
        "submission_df = submission_df.drop(0, axis=0)"
      ],
      "metadata": {
        "id": "5zfTctq1dchY"
      },
      "execution_count": 31,
      "outputs": []
    },
    {
      "cell_type": "code",
      "source": [
        "submission_df"
      ],
      "metadata": {
        "colab": {
          "base_uri": "https://localhost:8080/",
          "height": 424
        },
        "id": "17NhNbNddewo",
        "outputId": "367e59c0-1021-49db-d31e-fde1b9fadf6b"
      },
      "execution_count": 32,
      "outputs": [
        {
          "output_type": "execute_result",
          "data": {
            "text/plain": [
              "0     ImageId Label\n",
              "1           1     2\n",
              "2           2     0\n",
              "3           3     9\n",
              "4           4     0\n",
              "5           5     3\n",
              "...       ...   ...\n",
              "27996   27996     9\n",
              "27997   27997     7\n",
              "27998   27998     3\n",
              "27999   27999     9\n",
              "28000   28000     2\n",
              "\n",
              "[28000 rows x 2 columns]"
            ],
            "text/html": [
              "\n",
              "  <div id=\"df-2b73996b-1d24-4338-893f-1622e3d3203e\">\n",
              "    <div class=\"colab-df-container\">\n",
              "      <div>\n",
              "<style scoped>\n",
              "    .dataframe tbody tr th:only-of-type {\n",
              "        vertical-align: middle;\n",
              "    }\n",
              "\n",
              "    .dataframe tbody tr th {\n",
              "        vertical-align: top;\n",
              "    }\n",
              "\n",
              "    .dataframe thead th {\n",
              "        text-align: right;\n",
              "    }\n",
              "</style>\n",
              "<table border=\"1\" class=\"dataframe\">\n",
              "  <thead>\n",
              "    <tr style=\"text-align: right;\">\n",
              "      <th></th>\n",
              "      <th>ImageId</th>\n",
              "      <th>Label</th>\n",
              "    </tr>\n",
              "  </thead>\n",
              "  <tbody>\n",
              "    <tr>\n",
              "      <th>1</th>\n",
              "      <td>1</td>\n",
              "      <td>2</td>\n",
              "    </tr>\n",
              "    <tr>\n",
              "      <th>2</th>\n",
              "      <td>2</td>\n",
              "      <td>0</td>\n",
              "    </tr>\n",
              "    <tr>\n",
              "      <th>3</th>\n",
              "      <td>3</td>\n",
              "      <td>9</td>\n",
              "    </tr>\n",
              "    <tr>\n",
              "      <th>4</th>\n",
              "      <td>4</td>\n",
              "      <td>0</td>\n",
              "    </tr>\n",
              "    <tr>\n",
              "      <th>5</th>\n",
              "      <td>5</td>\n",
              "      <td>3</td>\n",
              "    </tr>\n",
              "    <tr>\n",
              "      <th>...</th>\n",
              "      <td>...</td>\n",
              "      <td>...</td>\n",
              "    </tr>\n",
              "    <tr>\n",
              "      <th>27996</th>\n",
              "      <td>27996</td>\n",
              "      <td>9</td>\n",
              "    </tr>\n",
              "    <tr>\n",
              "      <th>27997</th>\n",
              "      <td>27997</td>\n",
              "      <td>7</td>\n",
              "    </tr>\n",
              "    <tr>\n",
              "      <th>27998</th>\n",
              "      <td>27998</td>\n",
              "      <td>3</td>\n",
              "    </tr>\n",
              "    <tr>\n",
              "      <th>27999</th>\n",
              "      <td>27999</td>\n",
              "      <td>9</td>\n",
              "    </tr>\n",
              "    <tr>\n",
              "      <th>28000</th>\n",
              "      <td>28000</td>\n",
              "      <td>2</td>\n",
              "    </tr>\n",
              "  </tbody>\n",
              "</table>\n",
              "<p>28000 rows × 2 columns</p>\n",
              "</div>\n",
              "      <button class=\"colab-df-convert\" onclick=\"convertToInteractive('df-2b73996b-1d24-4338-893f-1622e3d3203e')\"\n",
              "              title=\"Convert this dataframe to an interactive table.\"\n",
              "              style=\"display:none;\">\n",
              "        \n",
              "  <svg xmlns=\"http://www.w3.org/2000/svg\" height=\"24px\"viewBox=\"0 0 24 24\"\n",
              "       width=\"24px\">\n",
              "    <path d=\"M0 0h24v24H0V0z\" fill=\"none\"/>\n",
              "    <path d=\"M18.56 5.44l.94 2.06.94-2.06 2.06-.94-2.06-.94-.94-2.06-.94 2.06-2.06.94zm-11 1L8.5 8.5l.94-2.06 2.06-.94-2.06-.94L8.5 2.5l-.94 2.06-2.06.94zm10 10l.94 2.06.94-2.06 2.06-.94-2.06-.94-.94-2.06-.94 2.06-2.06.94z\"/><path d=\"M17.41 7.96l-1.37-1.37c-.4-.4-.92-.59-1.43-.59-.52 0-1.04.2-1.43.59L10.3 9.45l-7.72 7.72c-.78.78-.78 2.05 0 2.83L4 21.41c.39.39.9.59 1.41.59.51 0 1.02-.2 1.41-.59l7.78-7.78 2.81-2.81c.8-.78.8-2.07 0-2.86zM5.41 20L4 18.59l7.72-7.72 1.47 1.35L5.41 20z\"/>\n",
              "  </svg>\n",
              "      </button>\n",
              "      \n",
              "  <style>\n",
              "    .colab-df-container {\n",
              "      display:flex;\n",
              "      flex-wrap:wrap;\n",
              "      gap: 12px;\n",
              "    }\n",
              "\n",
              "    .colab-df-convert {\n",
              "      background-color: #E8F0FE;\n",
              "      border: none;\n",
              "      border-radius: 50%;\n",
              "      cursor: pointer;\n",
              "      display: none;\n",
              "      fill: #1967D2;\n",
              "      height: 32px;\n",
              "      padding: 0 0 0 0;\n",
              "      width: 32px;\n",
              "    }\n",
              "\n",
              "    .colab-df-convert:hover {\n",
              "      background-color: #E2EBFA;\n",
              "      box-shadow: 0px 1px 2px rgba(60, 64, 67, 0.3), 0px 1px 3px 1px rgba(60, 64, 67, 0.15);\n",
              "      fill: #174EA6;\n",
              "    }\n",
              "\n",
              "    [theme=dark] .colab-df-convert {\n",
              "      background-color: #3B4455;\n",
              "      fill: #D2E3FC;\n",
              "    }\n",
              "\n",
              "    [theme=dark] .colab-df-convert:hover {\n",
              "      background-color: #434B5C;\n",
              "      box-shadow: 0px 1px 3px 1px rgba(0, 0, 0, 0.15);\n",
              "      filter: drop-shadow(0px 1px 2px rgba(0, 0, 0, 0.3));\n",
              "      fill: #FFFFFF;\n",
              "    }\n",
              "  </style>\n",
              "\n",
              "      <script>\n",
              "        const buttonEl =\n",
              "          document.querySelector('#df-2b73996b-1d24-4338-893f-1622e3d3203e button.colab-df-convert');\n",
              "        buttonEl.style.display =\n",
              "          google.colab.kernel.accessAllowed ? 'block' : 'none';\n",
              "\n",
              "        async function convertToInteractive(key) {\n",
              "          const element = document.querySelector('#df-2b73996b-1d24-4338-893f-1622e3d3203e');\n",
              "          const dataTable =\n",
              "            await google.colab.kernel.invokeFunction('convertToInteractive',\n",
              "                                                     [key], {});\n",
              "          if (!dataTable) return;\n",
              "\n",
              "          const docLinkHtml = 'Like what you see? Visit the ' +\n",
              "            '<a target=\"_blank\" href=https://colab.research.google.com/notebooks/data_table.ipynb>data table notebook</a>'\n",
              "            + ' to learn more about interactive tables.';\n",
              "          element.innerHTML = '';\n",
              "          dataTable['output_type'] = 'display_data';\n",
              "          await google.colab.output.renderOutput(dataTable, element);\n",
              "          const docLink = document.createElement('div');\n",
              "          docLink.innerHTML = docLinkHtml;\n",
              "          element.appendChild(docLink);\n",
              "        }\n",
              "      </script>\n",
              "    </div>\n",
              "  </div>\n",
              "  "
            ]
          },
          "metadata": {},
          "execution_count": 32
        }
      ]
    }
  ]
}